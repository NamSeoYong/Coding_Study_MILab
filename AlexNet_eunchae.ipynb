{
  "nbformat": 4,
  "nbformat_minor": 0,
  "metadata": {
    "colab": {
      "provenance": []
    },
    "kernelspec": {
      "name": "python3",
      "display_name": "Python 3"
    },
    "language_info": {
      "name": "python"
    }
  },
  "cells": [
    {
      "cell_type": "code",
      "execution_count": null,
      "metadata": {
        "colab": {
          "base_uri": "https://localhost:8080/"
        },
        "id": "Jb_yWrdii5jm",
        "outputId": "9f3d25c6-3f4b-434f-e110-193900137169"
      },
      "outputs": [
        {
          "output_type": "stream",
          "name": "stdout",
          "text": [
            "F-value: 16.0828, P-value: 0.0004\n"
          ]
        }
      ],
      "source": [
        "import pandas as pd\n",
        "import scipy.stats as stats\n",
        "\n",
        "# 제공된 데이터를 바탕으로 DataFrame 생성\n",
        "data = {'1': [9, 12, 10, 8, 15],\n",
        "        '2': [20, 21, 23, 17, 30],\n",
        "        '3': [6, 5, 8, 16, 7]}\n",
        "df = pd.DataFrame(data)\n",
        "\n",
        "# ANOVA를 위한 데이터 구조 변경: long format으로 변경\n",
        "df_melt = pd.melt(df.reset_index(), id_vars=['index'], value_vars=['1', '2', '3'])\n",
        "df_melt.columns = ['index', 'treatments', 'value']\n",
        "\n",
        "# ANOVA 실행\n",
        "fvalue, pvalue = stats.f_oneway(df['1'], df['2'], df['3'])\n",
        "\n",
        "# 결과 출력\n",
        "print(\"F-value: {:.4f}, P-value: {:.4f}\".format(fvalue, pvalue))\n"
      ]
    },
    {
      "cell_type": "code",
      "source": [
        "alpha = 0.5  # Given significance level for Q\n",
        "v = 12       # degrees of freedom for error\n",
        "k = 53       # number of groups or treatments\n",
        "\n",
        "# MSE from the ANOVA table (E26 cell in Excel)\n",
        "MSE = 16.9  # Mean Square Error\n",
        "\n",
        "# Number of observations per group\n",
        "n = 5\n",
        "\n",
        "# Calculate the Tukey's HSD critical value\n",
        "# Note that psturng takes the p-value, which is 1 - alpha in this case.\n",
        "# The qsturng from other software packages often takes the confidence level directly, hence the 1 - alpha here.\n",
        "T_a =0 * ((MSE / n) ** 0.5)\n",
        "\n",
        "print(\"T_a:\", T_a)\n",
        "\n",
        "# 데이터를 long format으로 변환\n",
        "mean_comparison = df.mean() > 6\n"
      ],
      "metadata": {
        "colab": {
          "base_uri": "https://localhost:8080/"
        },
        "id": "LghllbVUjZzW",
        "outputId": "8f156ac7-ccf6-47cb-b24e-deca1c2c3d1f"
      },
      "execution_count": null,
      "outputs": [
        {
          "output_type": "stream",
          "name": "stdout",
          "text": [
            "T_a: 0.0\n"
          ]
        }
      ]
    },
    {
      "cell_type": "code",
      "source": [
        "import pandas as pd\n",
        "\n",
        "# 제공된 데이터를 바탕으로 DataFrame 생성\n",
        "data = {'1': [9, 12, 10, 8, 15],\n",
        "        '2': [20, 21, 23, 17, 30],\n",
        "        '3': [6, 5, 8, 16, 7]}\n",
        "df = pd.DataFrame(data)\n",
        "\n",
        "# 직교 대조 설정\n",
        "contrast1 = df['1'].mean() - df['2'].mean()\n",
        "contrast2 = df['3'].mean() - df['2'].mean()\n",
        "\n",
        "# 결과 출력\n",
        "print(\"Contrast 1 (Circuit 1 vs Circuit 2):\", contrast1)\n",
        "print(\"Contrast 2 (Circuit 3 vs Circuit 2):\", contrast2)\n"
      ],
      "metadata": {
        "colab": {
          "base_uri": "https://localhost:8080/"
        },
        "id": "jXl5FolflYb3",
        "outputId": "8d99688a-0e6c-4ed7-8e6e-9ec3f1a80439"
      },
      "execution_count": null,
      "outputs": [
        {
          "output_type": "stream",
          "name": "stdout",
          "text": [
            "Contrast 1 (Circuit 1 vs Circuit 2): -11.399999999999999\n",
            "Contrast 2 (Circuit 3 vs Circuit 2): -13.799999999999999\n"
          ]
        }
      ]
    },
    {
      "cell_type": "code",
      "source": [
        "import numpy as np\n",
        "from scipy.stats import f\n",
        "\n",
        "# Define a function to calculate Scheffe's post hoc criterion\n",
        "def scheffe_posthoc(dataframe, alpha):\n",
        "    num_groups = len(dataframe.columns)\n",
        "    dfn = num_groups - 1  # Degrees of freedom between\n",
        "    dfd = dataframe.size - num_groups  # Degrees of freedom within\n",
        "    critical_f_value = f.ppf(1 - alpha, dfn, dfd)\n",
        "\n",
        "    group_means = dataframe.mean()\n",
        "    group_var = dataframe.var(ddof=1)\n",
        "    n = dataframe.shape[0]  # Sample size for each group\n",
        "\n",
        "    # Calculate the Scheffe's post hoc criterion\n",
        "    scheffe_criterion = (critical_f_value * (num_groups - 1) * group_var / n).to_numpy()\n",
        "\n",
        "    # Results dictionary\n",
        "    results = {\n",
        "        'group_means': group_means,\n",
        "        'critical_f_value': critical_f_value,\n",
        "        'scheffe_criterion': scheffe_criterion\n",
        "    }\n",
        "\n",
        "    # Compute pairwise comparisons\n",
        "    comparisons = {}\n",
        "    for i in range(num_groups):\n",
        "        for j in range(i+1, num_groups):\n",
        "            mean_diff = abs(group_means[i] - group_means[j])\n",
        "            comparison_name = f\"{dataframe.columns[i]} vs {dataframe.columns[j]}\"\n",
        "            comparisons[comparison_name] = {\n",
        "                'mean_diff': mean_diff,\n",
        "                'scheffe_criterion': scheffe_criterion[i],\n",
        "                'significantly_different': mean_diff > scheffe_criterion[i]\n",
        "            }\n",
        "\n",
        "    results['pairwise_comparisons'] = comparisons\n",
        "    return results\n",
        "\n",
        "# Run Scheffe's post hoc test\n",
        "scheffe_results = scheffe_posthoc(df, alpha)\n",
        "\n",
        "scheffe_results\n"
      ],
      "metadata": {
        "id": "E1xTGYHdsUd5",
        "outputId": "4cbe090e-34c7-401e-d8fa-9bba38650424",
        "colab": {
          "base_uri": "https://localhost:8080/"
        }
      },
      "execution_count": null,
      "outputs": [
        {
          "output_type": "execute_result",
          "data": {
            "text/plain": [
              "{'group_means': 1    10.8\n",
              " 2    22.2\n",
              " 3     8.4\n",
              " dtype: float64,\n",
              " 'critical_f_value': 0.7347722898562379,\n",
              " 'scheffe_criterion': array([2.26309865, 6.96564131, 5.67244208]),\n",
              " 'pairwise_comparisons': {'1 vs 2': {'mean_diff': 11.399999999999999,\n",
              "   'scheffe_criterion': 2.2630986527572126,\n",
              "   'significantly_different': True},\n",
              "  '1 vs 3': {'mean_diff': 2.4000000000000004,\n",
              "   'scheffe_criterion': 2.2630986527572126,\n",
              "   'significantly_different': True},\n",
              "  '2 vs 3': {'mean_diff': 13.799999999999999,\n",
              "   'scheffe_criterion': 6.965641307837134,\n",
              "   'significantly_different': True}}}"
            ]
          },
          "metadata": {},
          "execution_count": 15
        }
      ]
    },
    {
      "cell_type": "code",
      "source": [
        "def solution(k, d):\n",
        "  li = [i for i in range(0+k, d+1, k)]\n",
        "\n",
        "  re = [0]\n",
        "  for i in range(len(li)):\n",
        "      aa = li[0:i+1]\n",
        "\n",
        "      print(\"aa\",aa)\n",
        "      for j in range(i, -1,-1):\n",
        "        print(\"값\",li[i], aa[j], j)\n",
        "        if ((li[i])**2) + (aa[j]**2) <= d**2:\n",
        "            re += [j+1]\n",
        "            break\n",
        "      print(\"re\",re)\n",
        "\n",
        "  return sum(re)*2 - max(re) + 2*len(li) + 1\n",
        "\n",
        "a = solution(8, 7)\n",
        "print(a)"
      ],
      "metadata": {
        "id": "xVTxTiFL9pHi",
        "colab": {
          "base_uri": "https://localhost:8080/"
        },
        "outputId": "06189133-2967-4d32-ad9b-d93aae92bc94"
      },
      "execution_count": null,
      "outputs": [
        {
          "output_type": "stream",
          "name": "stdout",
          "text": [
            "aa [6]\n",
            "값 6 6 0\n",
            "re [0]\n",
            "3\n"
          ]
        }
      ]
    },
    {
      "cell_type": "code",
      "source": [
        "from google.colab import drive\n",
        "drive.mount('LeNet-5')\n",
        "\n",
        "import numpy as np\n",
        "from datetime import datetime\n",
        "\n",
        "import torch\n",
        "import torch.nn as nn\n",
        "import torch.nn.functional as F\n",
        "from torch.utils.data import DataLoader\n",
        "\n",
        "from torchvision import datasets, transforms\n",
        "\n",
        "import matplotlib.pyplot as plt\n",
        "\n",
        "DEVICE = 'cuda' if torch.cuda.is_available() else 'cpu'\n",
        "\n",
        "# parameters\n",
        "RANDOM_SEED = 42\n",
        "LEARNING_RATE = 0.001\n",
        "BATCH_SIZE = 32\n",
        "N_EPOCHS = 15\n",
        "\n",
        "IMG_SIZE = 32\n",
        "N_CLASSES = 10\n"
      ],
      "metadata": {
        "id": "qLw2nh85rCf7",
        "colab": {
          "base_uri": "https://localhost:8080/"
        },
        "outputId": "32c7da85-0a02-4057-e439-276725fc7b4e"
      },
      "execution_count": 1,
      "outputs": [
        {
          "output_type": "stream",
          "name": "stdout",
          "text": [
            "Mounted at LeNet-5\n"
          ]
        }
      ]
    },
    {
      "cell_type": "code",
      "source": [
        "def get_accuracy(model, data_loader, device):\n",
        "    '''\n",
        "    전체 data_loader에 대한 예측의 정확도를 계산하는 함수\n",
        "    '''\n",
        "\n",
        "    correct_pred = 0\n",
        "    n = 0\n",
        "\n",
        "    with torch.no_grad():\n",
        "        model.eval()\n",
        "        for X, y_true in data_loader:\n",
        "\n",
        "            X = X.to(device)\n",
        "            y_true = y_true.to(device)\n",
        "\n",
        "            _, y_prob = model(X)\n",
        "            _, predicted_labels = torch.max(y_prob, 1)\n",
        "\n",
        "            n += y_true.size(0)\n",
        "            correct_pred += (predicted_labels == y_true).sum()\n",
        "\n",
        "    return correct_pred.float() / n\n",
        "\n",
        "def plot_losses(train_losses, valid_losses):\n",
        "    '''\n",
        "    training과 validation loss를 시각화하는 함수\n",
        "    '''\n",
        "\n",
        "    # plot style을 seaborn으로 설정\n",
        "    plt.style.use('seaborn')\n",
        "\n",
        "    train_losses = np.array(train_losses)\n",
        "    valid_losses = np.array(valid_losses)\n",
        "\n",
        "    fig, ax = plt.subplots(figsize = (8, 4.5))\n",
        "\n",
        "    ax.plot(train_losses, color='blue', label='Training loss')\n",
        "    ax.plot(valid_losses, color='red', label='Validation loss')\n",
        "    ax.set(title=\"Loss over epochs\",\n",
        "            xlabel='Epoch',\n",
        "            ylabel='Loss')\n",
        "    ax.legend()\n",
        "    fig.show()\n",
        "\n",
        "    # plot style을 기본값으로 설정\n",
        "    plt.style.use('default')\n",
        ""
      ],
      "metadata": {
        "id": "W8ZeGQjWtj_H"
      },
      "execution_count": 2,
      "outputs": []
    },
    {
      "cell_type": "code",
      "source": [
        "def train(train_loader, model, criterion, optimizer, device):\n",
        "    '''\n",
        "    training loop의 training 단계에 대한 함수\n",
        "    '''\n",
        "\n",
        "    model.train()\n",
        "    running_loss = 0\n",
        "\n",
        "    for X, y_true in train_loader:\n",
        "\n",
        "        optimizer.zero_grad()\n",
        "\n",
        "        X = X.to(device)\n",
        "        y_true = y_true.to(device)\n",
        "\n",
        "        # 순전파\n",
        "        y_hat, _ = model(X)\n",
        "        loss = criterion(y_hat, y_true)\n",
        "        running_loss += loss.item() * X.size(0)\n",
        "\n",
        "        # 역전파\n",
        "        loss.backward()\n",
        "        optimizer.step()\n",
        "\n",
        "    epoch_loss = running_loss / len(train_loader.dataset)\n",
        "    return model, optimizer, epoch_loss"
      ],
      "metadata": {
        "id": "Q9J-A4cUtrUD"
      },
      "execution_count": 3,
      "outputs": []
    },
    {
      "cell_type": "code",
      "source": [
        "def validate(valid_loader, model, criterion, device):\n",
        "    '''\n",
        "    training loop의 validation 단계에 대한 함수\n",
        "    '''\n",
        "\n",
        "    model.eval()\n",
        "    running_loss = 0\n",
        "\n",
        "    for X, y_true in valid_loader:\n",
        "\n",
        "        X = X.to(device)\n",
        "        y_true = y_true.to(device)\n",
        "\n",
        "        # 순전파와 손실 기록하기\n",
        "        y_hat, _ = model(X)\n",
        "        loss = criterion(y_hat, y_true)\n",
        "        running_loss += loss.item() * X.size(0)\n",
        "\n",
        "    epoch_loss = running_loss / len(valid_loader.dataset)\n",
        "\n",
        "    return model, epoch_loss"
      ],
      "metadata": {
        "id": "FuWWAjIXttn9"
      },
      "execution_count": 4,
      "outputs": []
    },
    {
      "cell_type": "code",
      "source": [
        "def training_loop(model, criterion, optimizer, train_loader, valid_loader, epochs, device, print_every=1):\n",
        "    '''\n",
        "    전체 training loop를 정의하는 함수\n",
        "    '''\n",
        "\n",
        "    # metrics를 저장하기 위한 객체 설정\n",
        "    best_loss = 1e10\n",
        "    train_losses = []\n",
        "    valid_losses = []\n",
        "\n",
        "    # model 학습하기\n",
        "    for epoch in range(0, epochs):\n",
        "\n",
        "        # training\n",
        "        model, optimizer, train_loss = train(train_loader, model, criterion, optimizer, device)\n",
        "        train_losses.append(train_loss)\n",
        "\n",
        "        # validation\n",
        "        with torch.no_grad():\n",
        "            model, valid_loss = validate(valid_loader, model, criterion, device)\n",
        "            valid_losses.append(valid_loss)\n",
        "\n",
        "        if epoch % print_every == (print_every - 1):\n",
        "\n",
        "            train_acc = get_accuracy(model, train_loader, device=device)\n",
        "            valid_acc = get_accuracy(model, valid_loader, device=device)\n",
        "\n",
        "            print(f'{datetime.now().time().replace(microsecond=0)} --- '\n",
        "                  f'Epoch: {epoch}\\t'\n",
        "                  f'Train loss: {train_loss:.4f}\\t'\n",
        "                  f'Valid loss: {valid_loss:.4f}\\t'\n",
        "                  f'Train accuracy: {100 * train_acc:.2f}\\t'\n",
        "                  f'Valid accuracy: {100 * valid_acc:.2f}')\n",
        "\n",
        "    plot_losses(train_losses, valid_losses)\n",
        "\n",
        "    return model, optimizer, (train_losses, valid_losses)"
      ],
      "metadata": {
        "id": "0ZKiGS9PtvSC"
      },
      "execution_count": 5,
      "outputs": []
    },
    {
      "cell_type": "code",
      "source": [
        "# transforms 정의하기\n",
        "transforms = transforms.Compose([transforms.Resize((32, 32)),\n",
        "                                 transforms.ToTensor()])\n",
        "\n",
        "# data set 다운받고 생성하기\n",
        "train_dataset = datasets.MNIST(root='mnist_data',\n",
        "                               train=True,\n",
        "                               transform=transforms,\n",
        "                               download=True)\n",
        "\n",
        "valid_dataset = datasets.MNIST(root='mnist_data',\n",
        "                               train=False,\n",
        "                               transform=transforms)\n",
        "\n",
        "# data loader 정의하기\n",
        "train_loader = DataLoader(dataset=train_dataset,\n",
        "                          batch_size=BATCH_SIZE,\n",
        "                          shuffle=True)\n",
        "\n",
        "valid_loader = DataLoader(dataset=valid_dataset,\n",
        "                          batch_size=BATCH_SIZE,\n",
        "                          shuffle=False)\n",
        "\n",
        "# 불러온 MNIS data 확인하기\n",
        "ROW_IMG = 10\n",
        "N_ROWS = 5\n",
        "\n",
        "fig = plt.figure()\n",
        "for index in range(1, ROW_IMG * N_ROWS + 1):\n",
        "    plt.subplot(N_ROWS, ROW_IMG, index)\n",
        "    plt.axis('off')\n",
        "    plt.imshow(train_dataset.data[index], cmap='gray_r')\n",
        "fig.suptitle('MNIST Dataset - preview');"
      ],
      "metadata": {
        "colab": {
          "base_uri": "https://localhost:8080/",
          "height": 1000
        },
        "id": "j9ylrM5GtycA",
        "outputId": "0e433a1a-6b5d-40e8-8348-7964c437b8f7"
      },
      "execution_count": 6,
      "outputs": [
        {
          "output_type": "stream",
          "name": "stdout",
          "text": [
            "Downloading http://yann.lecun.com/exdb/mnist/train-images-idx3-ubyte.gz\n",
            "Failed to download (trying next):\n",
            "HTTP Error 403: Forbidden\n",
            "\n",
            "Downloading https://ossci-datasets.s3.amazonaws.com/mnist/train-images-idx3-ubyte.gz\n",
            "Downloading https://ossci-datasets.s3.amazonaws.com/mnist/train-images-idx3-ubyte.gz to mnist_data/MNIST/raw/train-images-idx3-ubyte.gz\n"
          ]
        },
        {
          "output_type": "stream",
          "name": "stderr",
          "text": [
            "100%|██████████| 9912422/9912422 [00:00<00:00, 35494538.45it/s]\n"
          ]
        },
        {
          "output_type": "stream",
          "name": "stdout",
          "text": [
            "Extracting mnist_data/MNIST/raw/train-images-idx3-ubyte.gz to mnist_data/MNIST/raw\n",
            "\n",
            "Downloading http://yann.lecun.com/exdb/mnist/train-labels-idx1-ubyte.gz\n",
            "Failed to download (trying next):\n",
            "HTTP Error 403: Forbidden\n",
            "\n",
            "Downloading https://ossci-datasets.s3.amazonaws.com/mnist/train-labels-idx1-ubyte.gz\n",
            "Downloading https://ossci-datasets.s3.amazonaws.com/mnist/train-labels-idx1-ubyte.gz to mnist_data/MNIST/raw/train-labels-idx1-ubyte.gz\n"
          ]
        },
        {
          "output_type": "stream",
          "name": "stderr",
          "text": [
            "100%|██████████| 28881/28881 [00:00<00:00, 1123228.44it/s]\n"
          ]
        },
        {
          "output_type": "stream",
          "name": "stdout",
          "text": [
            "Extracting mnist_data/MNIST/raw/train-labels-idx1-ubyte.gz to mnist_data/MNIST/raw\n",
            "\n",
            "Downloading http://yann.lecun.com/exdb/mnist/t10k-images-idx3-ubyte.gz\n",
            "Failed to download (trying next):\n",
            "HTTP Error 403: Forbidden\n",
            "\n",
            "Downloading https://ossci-datasets.s3.amazonaws.com/mnist/t10k-images-idx3-ubyte.gz\n",
            "Downloading https://ossci-datasets.s3.amazonaws.com/mnist/t10k-images-idx3-ubyte.gz to mnist_data/MNIST/raw/t10k-images-idx3-ubyte.gz\n"
          ]
        },
        {
          "output_type": "stream",
          "name": "stderr",
          "text": [
            "100%|██████████| 1648877/1648877 [00:00<00:00, 9606979.19it/s]\n"
          ]
        },
        {
          "output_type": "stream",
          "name": "stdout",
          "text": [
            "Extracting mnist_data/MNIST/raw/t10k-images-idx3-ubyte.gz to mnist_data/MNIST/raw\n",
            "\n",
            "Downloading http://yann.lecun.com/exdb/mnist/t10k-labels-idx1-ubyte.gz\n",
            "Failed to download (trying next):\n",
            "HTTP Error 403: Forbidden\n",
            "\n",
            "Downloading https://ossci-datasets.s3.amazonaws.com/mnist/t10k-labels-idx1-ubyte.gz\n",
            "Downloading https://ossci-datasets.s3.amazonaws.com/mnist/t10k-labels-idx1-ubyte.gz to mnist_data/MNIST/raw/t10k-labels-idx1-ubyte.gz\n"
          ]
        },
        {
          "output_type": "stream",
          "name": "stderr",
          "text": [
            "100%|██████████| 4542/4542 [00:00<00:00, 7931111.06it/s]"
          ]
        },
        {
          "output_type": "stream",
          "name": "stdout",
          "text": [
            "Extracting mnist_data/MNIST/raw/t10k-labels-idx1-ubyte.gz to mnist_data/MNIST/raw\n",
            "\n"
          ]
        },
        {
          "output_type": "stream",
          "name": "stderr",
          "text": [
            "\n"
          ]
        },
        {
          "output_type": "display_data",
          "data": {
            "text/plain": [
              "<Figure size 640x480 with 50 Axes>"
            ],
            "image/png": "[encoded data removed]"
          },
          "metadata": {}
        }
      ]
    },
    {
      "cell_type": "code",
      "source": [
        "class LeNet5(nn.Module):\n",
        "\n",
        "    def __init__(self, n_classes):\n",
        "        super(LeNet5, self).__init__()\n",
        "\n",
        "        self.feature_extractor = nn.Sequential(\n",
        "            nn.Conv2d(in_channels=1, out_channels=6, kernel_size=5, stride=1),\n",
        "            nn.ReLU(),\n",
        "            nn.LocalResponseNorm(size=5, alpha=0.0001, beta=0.75, k=2),\n",
        "            nn.MaxPool2d(kernel_size=3, stride=2),\n",
        "            nn.Conv2d(6, 32, 13, padding=2),\n",
        "            nn.ReLU(),\n",
        "            nn.LocalResponseNorm(size=5, alpha=0.0001, beta=0.75, k=2),\n",
        "            nn.MaxPool2d(kernel_size=3, stride=2),\n",
        "            nn.Conv2d(32, 32, 2, padding=1),\n",
        "            nn.ReLU(),\n",
        "            nn.Conv2d(32, 32, 2, padding=1),\n",
        "            nn.ReLU(),\n",
        "            nn.Conv2d(32, 32, 4, padding=1),\n",
        "            nn.ReLU(),\n",
        "            nn.MaxPool2d(kernel_size=3, stride=2),\n",
        "        )\n",
        "\n",
        "        self.classifier = nn.Sequential(\n",
        "            nn.Linear(in_features=32, out_features=32),\n",
        "            nn.Tanh(),\n",
        "            nn.Linear(in_features=32, out_features=n_classes),\n",
        "        )\n",
        "\n",
        "\n",
        "    def forward(self, x):\n",
        "        x = self.feature_extractor(x)\n",
        "        x = torch.flatten(x, 1)\n",
        "        logits = self.classifier(x)\n",
        "        probs = F.softmax(logits, dim=1)\n",
        "        return logits, probs"
      ],
      "metadata": {
        "id": "wL9_p6T_uMnt"
      },
      "execution_count": 41,
      "outputs": []
    },
    {
      "cell_type": "code",
      "source": [
        "torch.manual_seed(RANDOM_SEED)\n",
        "\n",
        "model = LeNet5(N_CLASSES).to(DEVICE)\n",
        "optimizer = torch.optim.Adam(model.parameters(), lr=LEARNING_RATE)\n",
        "criterion = nn.CrossEntropyLoss()"
      ],
      "metadata": {
        "id": "Xzs9zpMTuXGl"
      },
      "execution_count": 42,
      "outputs": []
    },
    {
      "cell_type": "code",
      "source": [
        "model, optimizer, _ = training_loop(model, criterion, optimizer, train_loader,\n",
        "                                    valid_loader, N_EPOCHS, DEVICE)"
      ],
      "metadata": {
        "colab": {
          "base_uri": "https://localhost:8080/",
          "height": 786
        },
        "id": "rqvkkxzcuXSh",
        "outputId": "95b57a12-4e7a-4691-9b37-481c82abedf6"
      },
      "execution_count": 43,
      "outputs": [
        {
          "output_type": "stream",
          "name": "stdout",
          "text": [
            "11:08:42 --- Epoch: 0\tTrain loss: 0.3832\tValid loss: 0.1453\tTrain accuracy: 95.66\tValid accuracy: 95.83\n",
            "11:10:47 --- Epoch: 1\tTrain loss: 0.0948\tValid loss: 0.0698\tTrain accuracy: 98.26\tValid accuracy: 97.92\n",
            "11:12:54 --- Epoch: 2\tTrain loss: 0.0646\tValid loss: 0.0694\tTrain accuracy: 98.32\tValid accuracy: 97.97\n",
            "11:14:59 --- Epoch: 3\tTrain loss: 0.0528\tValid loss: 0.0489\tTrain accuracy: 99.14\tValid accuracy: 98.65\n",
            "11:17:03 --- Epoch: 4\tTrain loss: 0.0430\tValid loss: 0.0519\tTrain accuracy: 98.99\tValid accuracy: 98.52\n",
            "11:19:09 --- Epoch: 5\tTrain loss: 0.0366\tValid loss: 0.0440\tTrain accuracy: 99.40\tValid accuracy: 98.77\n",
            "11:21:15 --- Epoch: 6\tTrain loss: 0.0315\tValid loss: 0.0482\tTrain accuracy: 99.35\tValid accuracy: 98.67\n",
            "11:23:21 --- Epoch: 7\tTrain loss: 0.0281\tValid loss: 0.0461\tTrain accuracy: 99.49\tValid accuracy: 98.72\n",
            "11:25:29 --- Epoch: 8\tTrain loss: 0.0238\tValid loss: 0.0521\tTrain accuracy: 99.46\tValid accuracy: 98.68\n",
            "11:27:35 --- Epoch: 9\tTrain loss: 0.0231\tValid loss: 0.0494\tTrain accuracy: 99.51\tValid accuracy: 98.69\n",
            "11:29:43 --- Epoch: 10\tTrain loss: 0.0204\tValid loss: 0.0446\tTrain accuracy: 99.71\tValid accuracy: 98.74\n",
            "11:31:50 --- Epoch: 11\tTrain loss: 0.0180\tValid loss: 0.0533\tTrain accuracy: 99.50\tValid accuracy: 98.75\n",
            "11:33:56 --- Epoch: 12\tTrain loss: 0.0167\tValid loss: 0.0511\tTrain accuracy: 99.62\tValid accuracy: 98.70\n",
            "11:36:05 --- Epoch: 13\tTrain loss: 0.0162\tValid loss: 0.0587\tTrain accuracy: 99.53\tValid accuracy: 98.55\n",
            "11:38:12 --- Epoch: 14\tTrain loss: 0.0145\tValid loss: 0.0528\tTrain accuracy: 99.57\tValid accuracy: 98.64\n"
          ]
        },
        {
          "output_type": "stream",
          "name": "stderr",
          "text": [
            "<ipython-input-2-c8c6749f0c80>:30: MatplotlibDeprecationWarning: The seaborn styles shipped by Matplotlib are deprecated since 3.6, as they no longer correspond to the styles shipped by seaborn. However, they will remain available as 'seaborn-v0_8-<style>'. Alternatively, directly use the seaborn API instead.\n",
            "  plt.style.use('seaborn')\n"
          ]
        },
        {
          "output_type": "display_data",
          "data": {
            "text/plain": [
              "<Figure size 800x450 with 1 Axes>"
            ],
            "image/png": "[encoded data removed]"
          },
          "metadata": {}
        }
      ]
    },
    {
      "cell_type": "code",
      "source": [
        "# @title\n"
      ],
      "metadata": {
        "cellView": "form",
        "id": "1MlE00-LuYvl"
      },
      "execution_count": 40,
      "outputs": []
    },
    {
      "cell_type": "code",
      "source": [],
      "metadata": {
        "id": "L-Q-CcJK08-x"
      },
      "execution_count": null,
      "outputs": []
    }
  ]
}